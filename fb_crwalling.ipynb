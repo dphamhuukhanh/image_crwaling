{
 "cells": [
  {
   "cell_type": "code",
   "execution_count": null,
   "source": [
    "import time\r\n",
    "\r\n",
    "from selenium import webdriver\r\n",
    "from selenium.webdriver.common.keys import Keys\r\n",
    "from time import sleep"
   ],
   "outputs": [],
   "metadata": {
    "collapsed": true
   }
  },
  {
   "cell_type": "code",
   "execution_count": null,
   "source": [
    "# dismiss alert\r\n",
    "chrome_options = webdriver.ChromeOptions()\r\n",
    "prefs = {\"profile.default_content_setting_values.notifications\" : 2}\r\n",
    "chrome_options.add_experimental_option(\"prefs\",prefs)\r\n",
    "\r\n",
    "driver = webdriver.Chrome(executable_path='chromedriver_win32/chromedriver.exe',chrome_options=chrome_options)\r\n",
    "\r\n",
    "url = str(input(\"Nhap URL: \"))\r\n",
    "\r\n",
    "driver.get(url)\r\n",
    "\r\n",
    "sleep(3)\r\n",
    "\r\n",
    "username = str(input(\"Nhap username: \"))\r\n",
    "password = str(input(\"Nhap password: \"))\r\n",
    "driver.find_element_by_name('email').send_keys(username)\r\n",
    "driver.find_element_by_name('pass').send_keys(password + Keys.ENTER)\r\n",
    "\r\n",
    "sleep(3)"
   ],
   "outputs": [],
   "metadata": {
    "collapsed": false,
    "pycharm": {
     "name": "#%%\n"
    }
   }
  },
  {
   "cell_type": "code",
   "execution_count": null,
   "source": [
    "\r\n",
    "image_links = driver.find_elements_by_tag_name('img')\r\n",
    "image_links = [image_link.get_attribute('src') for image_link in image_links]\r\n",
    "print(image_links)  "
   ],
   "outputs": [],
   "metadata": {
    "collapsed": false,
    "pycharm": {
     "name": "#%%\n"
    }
   }
  },
  {
   "cell_type": "code",
   "execution_count": null,
   "source": [
    "# make saved folder\r\n",
    "import os\r\n",
    "import wget\r\n",
    "\r\n",
    "path = os.getcwd()\r\n",
    "path = os.path.join(path, 'ScrapedPhotos')\r\n",
    "\r\n",
    "try:\r\n",
    "    os.mkdir(path)\r\n",
    "finally:\r\n",
    "    print('directory has been created')"
   ],
   "outputs": [],
   "metadata": {
    "collapsed": false,
    "pycharm": {
     "name": "#%%\n"
    }
   }
  },
  {
   "cell_type": "code",
   "execution_count": null,
   "source": [
    "# save photos\r\n",
    "count = 0\r\n",
    "for image in image_links:\r\n",
    "    driver.get(image)\r\n",
    "    file_name = os.path.join(path, str(count) + \".jpg\")\r\n",
    "    wget.download(image, file_name)\r\n",
    "    count += 1"
   ],
   "outputs": [],
   "metadata": {
    "collapsed": false,
    "pycharm": {
     "name": "#%%\n"
    }
   }
  },
  {
   "cell_type": "code",
   "execution_count": null,
   "source": [
    "driver.close()"
   ],
   "outputs": [],
   "metadata": {
    "collapsed": false,
    "pycharm": {
     "name": "#%%\n"
    }
   }
  }
 ],
 "metadata": {
  "kernelspec": {
   "name": "python3",
   "display_name": "Python 3.6.5 64-bit ('venv': venv)"
  },
  "language_info": {
   "name": "python",
   "version": "3.6.5",
   "mimetype": "text/x-python",
   "codemirror_mode": {
    "name": "ipython",
    "version": 3
   },
   "pygments_lexer": "ipython3",
   "nbconvert_exporter": "python",
   "file_extension": ".py"
  },
  "interpreter": {
   "hash": "64c43179779ddc18b88cda4836052e9e222704329910e6083e19386098ce0f51"
  }
 },
 "nbformat": 4,
 "nbformat_minor": 2
}