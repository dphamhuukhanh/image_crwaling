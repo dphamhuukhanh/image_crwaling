{
 "cells": [
  {
   "cell_type": "code",
   "execution_count": 79,
   "source": [
    "from selenium import webdriver\r\n",
    "from time import sleep\r\n",
    "from selenium.webdriver.common.keys import Keys\r\n",
    "import wget\r\n",
    "import os"
   ],
   "outputs": [],
   "metadata": {}
  },
  {
   "cell_type": "code",
   "execution_count": 80,
   "source": [
    "# dismiss driver alert\r\n",
    "chrome_options = webdriver.ChromeOptions()\r\n",
    "prefs = {\"profile.default_content_setting_values.notifications\" : 2}\r\n",
    "chrome_options.add_experimental_option(\"prefs\",prefs)\r\n",
    "\r\n",
    "driver = webdriver.Chrome(executable_path='chromedriver_win32/chromedriver.exe',chrome_options=chrome_options)"
   ],
   "outputs": [
    {
     "output_type": "stream",
     "name": "stderr",
     "text": [
      "d:\\PycharmProject\\image_crawling\\venv\\lib\\site-packages\\ipykernel_launcher.py:6: DeprecationWarning: use options instead of chrome_options\n",
      "  \n"
     ]
    }
   ],
   "metadata": {}
  },
  {
   "cell_type": "code",
   "execution_count": 81,
   "source": [
    "#access url\r\n",
    "#driver.get('https://www.instagram.com/ainee_cute')\r\n",
    "driver.get('https://www.instagram.com/accounts/login/')\r\n",
    "\r\n",
    "# log in instagram\r\n",
    "#driver.find_element_by_xpath('/html/body/div[1]/section/nav/div[2]/div/div/div[3]/div/span/a[1]/button').click()\r\n",
    "#sleep(3)\r\n",
    "\r\n",
    "sleep(3)\r\n",
    "driver.find_element_by_name('username').send_keys('hieubanh0911')\r\n",
    "driver.find_element_by_name('password').send_keys('KhanhDuy123')\r\n",
    "driver.find_element_by_name('password').send_keys(Keys.ENTER)\r\n",
    "sleep(7)\r\n",
    "\r\n",
    "driver.find_element_by_xpath('/html/body/div[1]/section/main/div/div/div/div/button').click()\r\n",
    "sleep(7)\r\n",
    "driver.get('https://www.instagram.com/ainee_cute')"
   ],
   "outputs": [],
   "metadata": {}
  },
  {
   "cell_type": "code",
   "execution_count": 82,
   "source": [
    "# get link\r\n",
    "image_links = driver.find_elements_by_tag_name('img')\r\n",
    "image_links = [image_link.get_attribute('src') for image_link in image_links]\r\n",
    "print(image_links)  "
   ],
   "outputs": [
    {
     "output_type": "stream",
     "name": "stdout",
     "text": [
      "['https://instagram.fhan5-1.fna.fbcdn.net/v/t51.2885-19/s320x320/241313354_988394831719301_9211395552332599398_n.jpg?_nc_ht=instagram.fhan5-1.fna.fbcdn.net&_nc_ohc=V8f5TGFmQqEAX9sf-iI&edm=ABfd0MgBAAAA&ccb=7-4&oh=a45c7e4721bbb7651d52a737391c1d9d&oe=6141DD50&_nc_sid=7bff83', 'https://instagram.fhan5-1.fna.fbcdn.net/v/t51.2885-15/s150x150/241233601_936771376874900_8539918213832155348_n.jpg?_nc_ht=instagram.fhan5-1.fna.fbcdn.net&_nc_ohc=5V_K89tYgssAX-R0TJd&edm=AGW0Xe4BAAAA&ccb=7-4&oh=9cfc513299ad1e7857e61b1ca9885708&oe=6141A658&_nc_sid=acd11b', 'https://instagram.fhan5-1.fna.fbcdn.net/v/t51.2885-15/s150x150/241090111_623223459082442_4309908302861317078_n.jpg?_nc_ht=instagram.fhan5-1.fna.fbcdn.net&_nc_ohc=5Oi0LSbrgnYAX-YWE6D&edm=AGW0Xe4BAAAA&ccb=7-4&oh=9ce90278a3371ad45d4ade15abbc3d02&oe=614151E4&_nc_sid=acd11b', 'https://instagram.fhan5-1.fna.fbcdn.net/v/t51.2885-15/s150x150/241164259_353028939682345_3097537438076890470_n.jpg?_nc_ht=instagram.fhan5-1.fna.fbcdn.net&_nc_ohc=UgwErqjzicsAX_R_CJy&edm=AGW0Xe4BAAAA&ccb=7-4&oh=11b0d65073e8c3fe6c40f405e1fe25b7&oe=61426E1A&_nc_sid=acd11b', 'https://instagram.fhan5-1.fna.fbcdn.net/v/t51.2885-15/s150x150/241309454_358078602705662_885234077382272227_n.jpg?_nc_ht=instagram.fhan5-1.fna.fbcdn.net&_nc_ohc=-pIP2HhoJO0AX-hJ1p-&edm=AGW0Xe4BAAAA&ccb=7-4&oh=624d2633892ea301d0219aaefe26f871&oe=6140EB99&_nc_sid=acd11b', 'https://instagram.fhan5-1.fna.fbcdn.net/v/t51.2885-15/s150x150/241049921_131799049166763_7840821386608240592_n.jpg?_nc_ht=instagram.fhan5-1.fna.fbcdn.net&_nc_ohc=e6_2Eh5FfZoAX_pOUhm&edm=AGW0Xe4BAAAA&ccb=7-4&oh=cedc719c8591efb5ee4dbff24bacbf6b&oe=6140EF9A&_nc_sid=acd11b', 'https://instagram.fhan5-3.fna.fbcdn.net/v/t51.2885-15/sh0.08/e35/c0.42.1440.1440a/s640x640/241371011_2630968960380155_298045588289660590_n.jpg?_nc_ht=instagram.fhan5-3.fna.fbcdn.net&_nc_cat=111&_nc_ohc=2qmiOm_XgSUAX_FloU5&tn=mhS6pORn6klODe5f&edm=ABfd0MgBAAAA&ccb=7-4&oh=2e8baa50b0cb821a7f32c163c5742ac1&oe=6142A755&_nc_sid=7bff83', 'https://instagram.fhan5-6.fna.fbcdn.net/v/t51.2885-15/sh0.08/e35/c0.134.1440.1440a/s640x640/241147503_232297088808415_1296900943057644343_n.jpg?_nc_ht=instagram.fhan5-6.fna.fbcdn.net&_nc_cat=107&_nc_ohc=XXkdMRoGlG8AX-uuzfD&edm=ABfd0MgBAAAA&ccb=7-4&oh=050cae63bc67ba80cd22956419c17525&oe=6140ED8F&_nc_sid=7bff83', 'https://instagram.fhan5-2.fna.fbcdn.net/v/t51.2885-15/sh0.08/e35/c0.180.1440.1440a/s640x640/240680882_400264928126438_8446374088911358469_n.jpg?_nc_ht=instagram.fhan5-2.fna.fbcdn.net&_nc_cat=102&_nc_ohc=awAhEY7kQuwAX-N78ms&tn=mhS6pORn6klODe5f&edm=ABfd0MgBAAAA&ccb=7-4&oh=a22e799c283289c8d984805c2131845b&oe=61410B02&_nc_sid=7bff83', 'https://instagram.fhan5-7.fna.fbcdn.net/v/t51.2885-15/sh0.08/e35/c0.180.1440.1440a/s640x640/238873998_871875223764048_3572143242388500040_n.jpg?_nc_ht=instagram.fhan5-7.fna.fbcdn.net&_nc_cat=100&_nc_ohc=6Gp3yCIyVHUAX--w7f2&edm=ABfd0MgBAAAA&ccb=7-4&oh=6c362d98e4f09bd06a2c517643974129&oe=6141F1A8&_nc_sid=7bff83', 'https://instagram.fhan5-6.fna.fbcdn.net/v/t51.2885-15/sh0.08/e35/c0.180.1440.1440a/s640x640/235910255_560497435129135_115330747616816412_n.jpg?_nc_ht=instagram.fhan5-6.fna.fbcdn.net&_nc_cat=107&_nc_ohc=tVGahM1kYskAX9voeF9&edm=ABfd0MgBAAAA&ccb=7-4&oh=1ba7e8fe882c689b824e99a5eaa53b46&oe=6141113D&_nc_sid=7bff83', 'https://instagram.fhan5-7.fna.fbcdn.net/v/t51.2885-15/sh0.08/e35/c0.280.720.720a/s640x640/217222943_414800799737091_3362679410876115189_n.jpg?_nc_ht=instagram.fhan5-7.fna.fbcdn.net&_nc_cat=103&_nc_ohc=Bljvnea7njQAX8aUxpx&edm=ABfd0MgBAAAA&ccb=7-4&oh=c187b33e6b77b06bbf4dea74da2b9941&oe=613CEE55&_nc_sid=7bff83', 'https://instagram.fhan5-6.fna.fbcdn.net/v/t51.2885-15/sh0.08/e35/c0.180.1440.1440a/s640x640/189074683_142953497765549_6807391523944162695_n.jpg?_nc_ht=instagram.fhan5-6.fna.fbcdn.net&_nc_cat=105&_nc_ohc=-40zQAXMLyYAX-5kJ-S&tn=mhS6pORn6klODe5f&edm=ABfd0MgBAAAA&ccb=7-4&oh=4e2093e71733c3bb9017d9d3bf9c7c31&oe=6141001C&_nc_sid=7bff83', 'https://instagram.fhan5-1.fna.fbcdn.net/v/t51.2885-15/sh0.08/e35/s640x640/180240668_475787846807553_5875778618980480151_n.jpg?_nc_ht=instagram.fhan5-1.fna.fbcdn.net&_nc_cat=109&_nc_ohc=kzrtp97mvOMAX-1IIfj&edm=ABfd0MgBAAAA&ccb=7-4&oh=c71c8b03a3fb723040d3b5ab50b1067a&oe=61413A9E&_nc_sid=7bff83', 'https://instagram.fhan5-3.fna.fbcdn.net/v/t51.2885-15/sh0.08/e35/c0.180.1440.1440a/s640x640/123773635_645592946106431_3036933728636539917_n.jpg?_nc_ht=instagram.fhan5-3.fna.fbcdn.net&_nc_cat=111&_nc_ohc=4S00ncin5hMAX--5Obw&edm=ABfd0MgBAAAA&ccb=7-4&oh=b4a4521cff11279080af120bc55ba54a&oe=61421A9F&_nc_sid=7bff83', 'https://instagram.fhan5-6.fna.fbcdn.net/v/t51.2885-15/sh0.08/e35/c0.180.1440.1440a/s640x640/116858319_609519196625683_8972861485732065098_n.jpg?_nc_ht=instagram.fhan5-6.fna.fbcdn.net&_nc_cat=107&_nc_ohc=0sJJKS__O8MAX8gk9xJ&edm=ABfd0MgBAAAA&ccb=7-4&oh=d0eae6c9be2f99d523412b928daae828&oe=6142A43C&_nc_sid=7bff83', 'https://www.instagram.com/static/images/web/mobile_nav_type_logo.png/735145cfe0a4.png', 'https://instagram.fnuu2-1.fna.fbcdn.net/v/t51.2885-19/44884218_345707102882519_2446069589734326272_n.jpg?_nc_ht=instagram.fnuu2-1.fna.fbcdn.net&_nc_ohc=4FppeyM3MncAX-ROco1&edm=AEVnrqQBAAAA&ccb=7-4&oh=b7454ab76bdd3d2884be9fa6b7139c62&oe=6141570F&_nc_sid=3ae735&ig_cache_key=YW5vbnltb3VzX3Byb2ZpbGVfcGlj.2-ccb7-4']\n"
     ]
    }
   ],
   "metadata": {}
  },
  {
   "cell_type": "code",
   "execution_count": 84,
   "source": [
    "path = os.getcwd()\r\n",
    "path = os.path.join(path, 'ScrapedPhotos')\r\n",
    "\r\n",
    "try:\r\n",
    "    os.mkdir(path)\r\n",
    "finally:\r\n",
    "    print('directory has been created')\r\n",
    "\r\n",
    "count = 0\r\n",
    "for image_link in image_links:\r\n",
    "    driver.get(image_link)\r\n",
    "    file_name = os.path.join(path, str(count) + \".jpg\")\r\n",
    "    wget.download(image_link, file_name)\r\n",
    "    count += 1\r\n",
    "    \r\n",
    "    "
   ],
   "outputs": [
    {
     "output_type": "stream",
     "name": "stdout",
     "text": [
      "directory has been created\n"
     ]
    }
   ],
   "metadata": {}
  },
  {
   "cell_type": "code",
   "execution_count": 85,
   "source": [
    "driver.close()"
   ],
   "outputs": [],
   "metadata": {}
  }
 ],
 "metadata": {
  "orig_nbformat": 4,
  "language_info": {
   "name": "python",
   "version": "3.6.5",
   "mimetype": "text/x-python",
   "codemirror_mode": {
    "name": "ipython",
    "version": 3
   },
   "pygments_lexer": "ipython3",
   "nbconvert_exporter": "python",
   "file_extension": ".py"
  },
  "kernelspec": {
   "name": "python3",
   "display_name": "Python 3.6.5 64-bit ('venv': venv)"
  },
  "interpreter": {
   "hash": "64c43179779ddc18b88cda4836052e9e222704329910e6083e19386098ce0f51"
  }
 },
 "nbformat": 4,
 "nbformat_minor": 2
}