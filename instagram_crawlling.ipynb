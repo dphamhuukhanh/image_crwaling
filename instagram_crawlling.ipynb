{
 "cells": [
  {
   "cell_type": "code",
   "execution_count": null,
   "source": [
    "from selenium import webdriver\r\n",
    "from time import sleep\r\n",
    "from selenium.webdriver.common.keys import Keys\r\n",
    "import wget\r\n",
    "import os"
   ],
   "outputs": [],
   "metadata": {}
  },
  {
   "cell_type": "code",
   "execution_count": null,
   "source": [
    "# dismiss driver alert\r\n",
    "chrome_options = webdriver.ChromeOptions()\r\n",
    "prefs = {\"profile.default_content_setting_values.notifications\" : 2}\r\n",
    "chrome_options.add_experimental_option(\"prefs\",prefs)\r\n",
    "\r\n",
    "driver = webdriver.Chrome(executable_path='chromedriver_win32/chromedriver.exe',chrome_options=chrome_options)"
   ],
   "outputs": [],
   "metadata": {}
  },
  {
   "cell_type": "code",
   "execution_count": null,
   "source": [
    "#access url\r\n",
    "driver.get('https://www.instagram.com/accounts/login/')\r\n",
    "\r\n",
    "# log in instagram\r\n",
    "sleep(3)\r\n",
    "username = str(input(\"Nhap username: \"))\r\n",
    "password = str(input(\"Nhap password: \"))\r\n",
    "driver.find_element_by_name('username').send_keys(username)\r\n",
    "driver.find_element_by_name('password').send_keys(password)\r\n",
    "driver.find_element_by_name('password').send_keys(Keys.ENTER)\r\n",
    "sleep(7)\r\n",
    "\r\n",
    "driver.find_element_by_xpath('/html/body/div[1]/section/main/div/div/div/div/button').click()\r\n",
    "sleep(7)\r\n",
    "url = str(input(\"Nhap URL: \"))\r\n",
    "driver.get(url)"
   ],
   "outputs": [],
   "metadata": {}
  },
  {
   "cell_type": "code",
   "execution_count": null,
   "source": [
    "# get link\r\n",
    "image_links = driver.find_elements_by_tag_name('img')\r\n",
    "image_links = [image_link.get_attribute('src') for image_link in image_links]\r\n",
    "print(image_links)  "
   ],
   "outputs": [],
   "metadata": {}
  },
  {
   "cell_type": "code",
   "execution_count": null,
   "source": [
    "path = os.getcwd()\r\n",
    "path = os.path.join(path, 'ScrapedPhotos')\r\n",
    "\r\n",
    "try:\r\n",
    "    os.mkdir(path)\r\n",
    "finally:\r\n",
    "    print('directory has been created')\r\n",
    "\r\n",
    "count = 0\r\n",
    "for image_link in image_links:\r\n",
    "    driver.get(image_link)\r\n",
    "    file_name = os.path.join(path, str(count) + \".jpg\")\r\n",
    "    wget.download(image_link, file_name)\r\n",
    "    count += 1\r\n",
    "    \r\n",
    "    "
   ],
   "outputs": [],
   "metadata": {}
  },
  {
   "cell_type": "code",
   "execution_count": null,
   "source": [
    "driver.close()"
   ],
   "outputs": [],
   "metadata": {}
  }
 ],
 "metadata": {
  "orig_nbformat": 4,
  "language_info": {
   "name": "python",
   "version": "3.7.0",
   "mimetype": "text/x-python",
   "codemirror_mode": {
    "name": "ipython",
    "version": 3
   },
   "pygments_lexer": "ipython3",
   "nbconvert_exporter": "python",
   "file_extension": ".py"
  },
  "kernelspec": {
   "name": "python3",
   "display_name": "Python 3.7.0 64-bit ('venv': venv)"
  },
  "interpreter": {
   "hash": "2851d488b6af9d771b4cbc232d8c5f733f3e5c7a3a3bfad9d1ee32046c2820a1"
  }
 },
 "nbformat": 4,
 "nbformat_minor": 2
}